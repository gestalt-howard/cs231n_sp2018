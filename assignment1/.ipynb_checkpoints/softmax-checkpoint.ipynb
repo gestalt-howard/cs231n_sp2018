{
 "cells": [
  {
   "cell_type": "markdown",
   "metadata": {},
   "source": [
    "# Softmax exercise\n",
    "\n",
    "*Complete and hand in this completed worksheet (including its outputs and any supporting code outside of the worksheet) with your assignment submission. For more details see the [assignments page](http://vision.stanford.edu/teaching/cs231n/assignments.html) on the course website.*\n",
    "\n",
    "This exercise is analogous to the SVM exercise. You will:\n",
    "\n",
    "- implement a fully-vectorized **loss function** for the Softmax classifier\n",
    "- implement the fully-vectorized expression for its **analytic gradient**\n",
    "- **check your implementation** with numerical gradient\n",
    "- use a validation set to **tune the learning rate and regularization** strength\n",
    "- **optimize** the loss function with **SGD**\n",
    "- **visualize** the final learned weights\n"
   ]
  },
  {
   "cell_type": "code",
   "execution_count": 1,
   "metadata": {},
   "outputs": [],
   "source": [
    "import random\n",
    "import numpy as np\n",
    "from cs231n.data_utils import load_CIFAR10\n",
    "import matplotlib.pyplot as plt\n",
    "\n",
    "from __future__ import print_function\n",
    "\n",
    "%matplotlib inline\n",
    "plt.rcParams['figure.figsize'] = (10.0, 8.0) # set default size of plots\n",
    "plt.rcParams['image.interpolation'] = 'nearest'\n",
    "plt.rcParams['image.cmap'] = 'gray'\n",
    "\n",
    "# for auto-reloading extenrnal modules\n",
    "# see http://stackoverflow.com/questions/1907993/autoreload-of-modules-in-ipython\n",
    "%load_ext autoreload\n",
    "%autoreload 2"
   ]
  },
  {
   "cell_type": "code",
   "execution_count": 3,
   "metadata": {},
   "outputs": [
    {
     "name": "stdout",
     "output_type": "stream",
     "text": [
      "Clear previously loaded data.\n",
      "Train data shape:  (49000, 3073)\n",
      "Train labels shape:  (49000,)\n",
      "Validation data shape:  (1000, 3073)\n",
      "Validation labels shape:  (1000,)\n",
      "Test data shape:  (1000, 3073)\n",
      "Test labels shape:  (1000,)\n",
      "dev data shape:  (500, 3073)\n",
      "dev labels shape:  (500,)\n"
     ]
    }
   ],
   "source": [
    "def get_CIFAR10_data(num_training=49000, num_validation=1000, num_test=1000, num_dev=500):\n",
    "    \"\"\"\n",
    "    Load the CIFAR-10 dataset from disk and perform preprocessing to prepare\n",
    "    it for the linear classifier. These are the same steps as we used for the\n",
    "    SVM, but condensed to a single function.  \n",
    "    \"\"\"\n",
    "    # Load the raw CIFAR-10 data\n",
    "    cifar10_dir = 'cs231n/datasets/cifar-10-batches-py'\n",
    "    \n",
    "    X_train, y_train, X_test, y_test = load_CIFAR10(cifar10_dir)\n",
    "    \n",
    "    # subsample the data\n",
    "    mask = list(range(num_training, num_training + num_validation))\n",
    "    X_val = X_train[mask]\n",
    "    y_val = y_train[mask]\n",
    "    mask = list(range(num_training))\n",
    "    X_train = X_train[mask]\n",
    "    y_train = y_train[mask]\n",
    "    mask = list(range(num_test))\n",
    "    X_test = X_test[mask]\n",
    "    y_test = y_test[mask]\n",
    "    mask = np.random.choice(num_training, num_dev, replace=False)\n",
    "    X_dev = X_train[mask]\n",
    "    y_dev = y_train[mask]\n",
    "    \n",
    "    # Preprocessing: reshape the image data into rows\n",
    "    X_train = np.reshape(X_train, (X_train.shape[0], -1))\n",
    "    X_val = np.reshape(X_val, (X_val.shape[0], -1))\n",
    "    X_test = np.reshape(X_test, (X_test.shape[0], -1))\n",
    "    X_dev = np.reshape(X_dev, (X_dev.shape[0], -1))\n",
    "    \n",
    "    # Normalize the data: subtract the mean image\n",
    "    mean_image = np.mean(X_train, axis = 0)\n",
    "    X_train -= mean_image\n",
    "    X_val -= mean_image\n",
    "    X_test -= mean_image\n",
    "    X_dev -= mean_image\n",
    "    \n",
    "    # add bias dimension and transform into columns\n",
    "    X_train = np.hstack([X_train, np.ones((X_train.shape[0], 1))])\n",
    "    X_val = np.hstack([X_val, np.ones((X_val.shape[0], 1))])\n",
    "    X_test = np.hstack([X_test, np.ones((X_test.shape[0], 1))])\n",
    "    X_dev = np.hstack([X_dev, np.ones((X_dev.shape[0], 1))])\n",
    "    \n",
    "    return X_train, y_train, X_val, y_val, X_test, y_test, X_dev, y_dev\n",
    "\n",
    "\n",
    "# Cleaning up variables to prevent loading data multiple times (which may cause memory issue)\n",
    "try:\n",
    "    del X_train, y_train\n",
    "    del X_test, y_test\n",
    "    print('Clear previously loaded data.')\n",
    "except:\n",
    "    pass\n",
    "\n",
    "# Invoke the above function to get our data.\n",
    "X_train, y_train, X_val, y_val, X_test, y_test, X_dev, y_dev = get_CIFAR10_data()\n",
    "print('Train data shape: ', X_train.shape)\n",
    "print('Train labels shape: ', y_train.shape)\n",
    "print('Validation data shape: ', X_val.shape)\n",
    "print('Validation labels shape: ', y_val.shape)\n",
    "print('Test data shape: ', X_test.shape)\n",
    "print('Test labels shape: ', y_test.shape)\n",
    "print('dev data shape: ', X_dev.shape)\n",
    "print('dev labels shape: ', y_dev.shape)"
   ]
  },
  {
   "cell_type": "markdown",
   "metadata": {},
   "source": [
    "## Softmax Classifier\n",
    "\n",
    "Your code for this section will all be written inside **cs231n/classifiers/softmax.py**. \n"
   ]
  },
  {
   "cell_type": "code",
   "execution_count": 15,
   "metadata": {},
   "outputs": [
    {
     "name": "stdout",
     "output_type": "stream",
     "text": [
      "loss: 2.340646\n",
      "sanity check: 2.302585\n"
     ]
    }
   ],
   "source": [
    "# First implement the naive softmax loss function with nested loops.\n",
    "# Open the file cs231n/classifiers/softmax.py and implement the\n",
    "# softmax_loss_naive function.\n",
    "\n",
    "from cs231n.classifiers.softmax import softmax_loss_naive\n",
    "import time\n",
    "\n",
    "# Generate a random softmax weight matrix and use it to compute the loss.\n",
    "W = np.random.randn(3073, 10) * 0.0001\n",
    "loss, grad = softmax_loss_naive(W, X_dev, y_dev, 0.0)\n",
    "\n",
    "# As a rough sanity check, our loss should be something close to -log(0.1).\n",
    "print('loss: %f' % loss)\n",
    "print('sanity check: %f' % (-np.log(0.1)))"
   ]
  },
  {
   "cell_type": "markdown",
   "metadata": {},
   "source": [
    "## Inline Question 1:\n",
    "Why do we expect our loss to be close to -log(0.1)? Explain briefly.**\n",
    "\n",
    "**Your answer:** *Fill this in*\n"
   ]
  },
  {
   "cell_type": "code",
   "execution_count": 16,
   "metadata": {},
   "outputs": [
    {
     "name": "stdout",
     "output_type": "stream",
     "text": [
      "numerical: 0.718192 analytic: 0.718192, relative error: 3.010942e-08\n",
      "numerical: 0.078934 analytic: 0.078934, relative error: 5.807948e-07\n",
      "numerical: 0.452743 analytic: 0.452742, relative error: 1.149160e-07\n",
      "numerical: -2.499013 analytic: -2.499013, relative error: 1.732796e-09\n",
      "numerical: 1.043812 analytic: 1.043812, relative error: 6.713910e-09\n",
      "numerical: -0.389665 analytic: -0.389665, relative error: 3.000556e-08\n",
      "numerical: 0.489483 analytic: 0.489483, relative error: 3.663183e-08\n",
      "numerical: -1.885155 analytic: -1.885155, relative error: 2.622485e-09\n",
      "numerical: 1.057447 analytic: 1.057447, relative error: 8.612144e-08\n",
      "numerical: 0.773232 analytic: 0.773232, relative error: 5.376394e-08\n",
      "numerical: -2.351440 analytic: -2.351440, relative error: 2.628551e-09\n",
      "numerical: 0.339174 analytic: 0.339174, relative error: 6.675886e-08\n",
      "numerical: -1.189118 analytic: -1.189119, relative error: 5.641594e-08\n",
      "numerical: 1.568714 analytic: 1.568713, relative error: 1.596821e-08\n",
      "numerical: 1.535455 analytic: 1.535455, relative error: 1.799072e-08\n",
      "numerical: 2.300030 analytic: 2.300030, relative error: 1.678061e-08\n",
      "numerical: 0.568409 analytic: 0.568409, relative error: 2.063278e-08\n",
      "numerical: -0.426698 analytic: -0.426698, relative error: 8.714151e-08\n",
      "numerical: 1.817805 analytic: 1.817805, relative error: 4.229736e-08\n",
      "numerical: 2.182283 analytic: 2.182283, relative error: 2.802628e-08\n"
     ]
    }
   ],
   "source": [
    "# Complete the implementation of softmax_loss_naive and implement a (naive)\n",
    "# version of the gradient that uses nested loops.\n",
    "loss, grad = softmax_loss_naive(W, X_dev, y_dev, 0.0)\n",
    "\n",
    "# As we did for the SVM, use numeric gradient checking as a debugging tool.\n",
    "# The numeric gradient should be close to the analytic gradient.\n",
    "from cs231n.gradient_check import grad_check_sparse\n",
    "f = lambda w: softmax_loss_naive(w, X_dev, y_dev, 0.0)[0]\n",
    "grad_numerical = grad_check_sparse(f, W, grad, 10)\n",
    "\n",
    "# similar to SVM case, do another gradient check with regularization\n",
    "loss, grad = softmax_loss_naive(W, X_dev, y_dev, 5e1)\n",
    "f = lambda w: softmax_loss_naive(w, X_dev, y_dev, 5e1)[0]\n",
    "grad_numerical = grad_check_sparse(f, W, grad, 10)"
   ]
  },
  {
   "cell_type": "code",
   "execution_count": 21,
   "metadata": {},
   "outputs": [
    {
     "name": "stdout",
     "output_type": "stream",
     "text": [
      "naive loss: 2.340646e+00 computed in 0.103647s\n",
      "vectorized loss: 2.340646e+00 computed in 0.003832s\n",
      "Loss difference: 0.000000\n",
      "Gradient difference: 0.000000\n"
     ]
    }
   ],
   "source": [
    "# Now that we have a naive implementation of the softmax loss function and its gradient,\n",
    "# implement a vectorized version in softmax_loss_vectorized.\n",
    "# The two versions should compute the same results, but the vectorized version should be\n",
    "# much faster.\n",
    "tic = time.time()\n",
    "loss_naive, grad_naive = softmax_loss_naive(W, X_dev, y_dev, 0.000005)\n",
    "toc = time.time()\n",
    "print('naive loss: %e computed in %fs' % (loss_naive, toc - tic))\n",
    "\n",
    "from cs231n.classifiers.softmax import softmax_loss_vectorized\n",
    "tic = time.time()\n",
    "loss_vectorized, grad_vectorized = softmax_loss_vectorized(W, X_dev, y_dev, 0.000005)\n",
    "toc = time.time()\n",
    "print('vectorized loss: %e computed in %fs' % (loss_vectorized, toc - tic))\n",
    "\n",
    "# As we did for the SVM, we use the Frobenius norm to compare the two versions\n",
    "# of the gradient.\n",
    "grad_difference = np.linalg.norm(grad_naive - grad_vectorized, ord='fro')\n",
    "print('Loss difference: %f' % np.abs(loss_naive - loss_vectorized))\n",
    "print('Gradient difference: %f' % grad_difference)"
   ]
  },
  {
   "cell_type": "code",
   "execution_count": 24,
   "metadata": {},
   "outputs": [
    {
     "name": "stdout",
     "output_type": "stream",
     "text": [
      "iteration 0 / 1500: loss 468.389107\n",
      "iteration 100 / 1500: loss 345.948883\n",
      "iteration 200 / 1500: loss 256.275153\n",
      "iteration 300 / 1500: loss 190.147046\n",
      "iteration 400 / 1500: loss 141.095068\n",
      "iteration 500 / 1500: loss 104.910321\n",
      "iteration 600 / 1500: loss 78.010429\n",
      "iteration 700 / 1500: loss 58.246017\n",
      "iteration 800 / 1500: loss 43.652695\n",
      "iteration 900 / 1500: loss 32.726331\n",
      "iteration 1000 / 1500: loss 24.797530\n",
      "iteration 1100 / 1500: loss 18.814954\n",
      "iteration 1200 / 1500: loss 14.493211\n",
      "iteration 1300 / 1500: loss 11.257625\n",
      "iteration 1400 / 1500: loss 8.853701\n",
      "iteration 0 / 1500: loss 769.065525\n",
      "iteration 100 / 1500: loss 465.803279\n",
      "iteration 200 / 1500: loss 282.718203\n",
      "iteration 300 / 1500: loss 171.986864\n",
      "iteration 400 / 1500: loss 104.871127\n",
      "iteration 500 / 1500: loss 64.376362\n",
      "iteration 600 / 1500: loss 39.701331\n",
      "iteration 700 / 1500: loss 24.818067\n",
      "iteration 800 / 1500: loss 15.837058\n",
      "iteration 900 / 1500: loss 10.424911\n",
      "iteration 1000 / 1500: loss 7.096210\n",
      "iteration 1100 / 1500: loss 5.133076\n",
      "iteration 1200 / 1500: loss 3.963038\n",
      "iteration 1300 / 1500: loss 3.151421\n",
      "iteration 1400 / 1500: loss 2.770872\n",
      "iteration 0 / 1500: loss 470.624478\n",
      "iteration 100 / 1500: loss 257.282857\n",
      "iteration 200 / 1500: loss 141.391447\n",
      "iteration 300 / 1500: loss 78.340062\n",
      "iteration 400 / 1500: loss 43.714400\n",
      "iteration 500 / 1500: loss 24.845707\n",
      "iteration 600 / 1500: loss 14.548975\n",
      "iteration 700 / 1500: loss 8.884286\n",
      "iteration 800 / 1500: loss 5.765436\n",
      "iteration 900 / 1500: loss 4.112801\n",
      "iteration 1000 / 1500: loss 3.138836\n",
      "iteration 1100 / 1500: loss 2.581531\n",
      "iteration 1200 / 1500: loss 2.363138\n",
      "iteration 1300 / 1500: loss 2.224749\n",
      "iteration 1400 / 1500: loss 2.129980\n",
      "iteration 0 / 1500: loss 774.540881\n",
      "iteration 100 / 1500: loss 284.179844\n",
      "iteration 200 / 1500: loss 105.177376\n",
      "iteration 300 / 1500: loss 39.872475\n",
      "iteration 400 / 1500: loss 15.891485\n",
      "iteration 500 / 1500: loss 7.139405\n",
      "iteration 600 / 1500: loss 3.987083\n",
      "iteration 700 / 1500: loss 2.757709\n",
      "iteration 800 / 1500: loss 2.314858\n",
      "iteration 900 / 1500: loss 2.172221\n",
      "iteration 1000 / 1500: loss 2.139450\n",
      "iteration 1100 / 1500: loss 2.106244\n",
      "iteration 1200 / 1500: loss 2.074594\n",
      "iteration 1300 / 1500: loss 2.135549\n",
      "iteration 1400 / 1500: loss 2.083092\n",
      "lr 5.000000e-08 reg 1.500000e+04 train accuracy: 0.321510 val accuracy: 0.316000\n",
      "lr 5.000000e-08 reg 2.500000e+04 train accuracy: 0.331041 val accuracy: 0.334000\n",
      "lr 1.000000e-07 reg 1.500000e+04 train accuracy: 0.347878 val accuracy: 0.366000\n",
      "lr 1.000000e-07 reg 2.500000e+04 train accuracy: 0.331265 val accuracy: 0.347000\n",
      "best validation accuracy achieved during cross-validation: 0.366000\n"
     ]
    }
   ],
   "source": [
    "# Use the validation set to tune hyperparameters (regularization strength and\n",
    "# learning rate). You should experiment with different ranges for the learning\n",
    "# rates and regularization strengths; if you are careful you should be able to\n",
    "# get a classification accuracy of over 0.35 on the validation set.\n",
    "from cs231n.classifiers import Softmax\n",
    "results = {}\n",
    "best_val = -1\n",
    "best_softmax = None\n",
    "learning_rates = [5e-8, 1e-7]\n",
    "regularization_strengths = [1.5e4, 2.5e4]\n",
    "\n",
    "################################################################################\n",
    "# TODO:                                                                        #\n",
    "# Use the validation set to set the learning rate and regularization strength. #\n",
    "# This should be identical to the validation that you did for the SVM; save    #\n",
    "# the best trained softmax classifer in best_softmax.                          #\n",
    "################################################################################\n",
    "for lr in learning_rates:\n",
    "    for reg in regularization_strengths:\n",
    "        tuning_soft = Softmax()\n",
    "        tuning_soft.train(X_train, y_train, learning_rate=lr, reg=reg,\n",
    "                          num_iters=1500, verbose=True)\n",
    "        # Training\n",
    "        t_pred = tuning_soft.predict(X_train)\n",
    "        t_acc = np.mean(t_pred == y_train)\n",
    "        # Validation\n",
    "        v_pred = tuning_soft.predict(X_val)\n",
    "        v_acc = np.mean(v_pred == y_val)\n",
    "        \n",
    "        results[(lr, reg)] = (t_acc, v_acc)\n",
    "        \n",
    "        if v_acc > best_val:\n",
    "            best_val = v_acc\n",
    "            best_softmax = tuning_soft\n",
    "    \n",
    "# Print out results.\n",
    "for lr, reg in sorted(results):\n",
    "    train_accuracy, val_accuracy = results[(lr, reg)]\n",
    "    print('lr %e reg %e train accuracy: %f val accuracy: %f' % (\n",
    "                lr, reg, train_accuracy, val_accuracy))\n",
    "    \n",
    "print('best validation accuracy achieved during cross-validation: %f' % best_val)"
   ]
  },
  {
   "cell_type": "code",
   "execution_count": 25,
   "metadata": {},
   "outputs": [
    {
     "name": "stdout",
     "output_type": "stream",
     "text": [
      "softmax on raw pixels final test set accuracy: 0.353000\n"
     ]
    }
   ],
   "source": [
    "# evaluate on test set\n",
    "# Evaluate the best softmax on test set\n",
    "y_test_pred = best_softmax.predict(X_test)\n",
    "test_accuracy = np.mean(y_test == y_test_pred)\n",
    "print('softmax on raw pixels final test set accuracy: %f' % (test_accuracy, ))"
   ]
  },
  {
   "cell_type": "markdown",
   "metadata": {},
   "source": [
    "**Inline Question** - *True or False*\n",
    "\n",
    "It's possible to add a new datapoint to a training set that would leave the SVM loss unchanged, but this is not the case with the Softmax classifier loss.\n",
    "\n",
    "*Your answer*:\n",
    "\n",
    "*Your explanation*:"
   ]
  },
  {
   "cell_type": "code",
   "execution_count": 26,
   "metadata": {},
   "outputs": [
    {
     "data": {
      "image/png": "[encoded data removed]",
      "text/plain": [
       "<Figure size 432x288 with 10 Axes>"
      ]
     },
     "metadata": {},
     "output_type": "display_data"
    }
   ],
   "source": [
    "# Visualize the learned weights for each class\n",
    "w = best_softmax.W[:-1,:] # strip out the bias\n",
    "w = w.reshape(32, 32, 3, 10)\n",
    "\n",
    "w_min, w_max = np.min(w), np.max(w)\n",
    "\n",
    "classes = ['plane', 'car', 'bird', 'cat', 'deer', 'dog', 'frog', 'horse', 'ship', 'truck']\n",
    "for i in range(10):\n",
    "    plt.subplot(2, 5, i + 1)\n",
    "    \n",
    "    # Rescale the weights to be between 0 and 255\n",
    "    wimg = 255.0 * (w[:, :, :, i].squeeze() - w_min) / (w_max - w_min)\n",
    "    plt.imshow(wimg.astype('uint8'))\n",
    "    plt.axis('off')\n",
    "    plt.title(classes[i])"
   ]
  },
  {
   "cell_type": "code",
   "execution_count": null,
   "metadata": {},
   "outputs": [],
   "source": []
  }
 ],
 "metadata": {
  "kernelspec": {
   "display_name": "Python 3",
   "language": "python",
   "name": "python3"
  },
  "language_info": {
   "codemirror_mode": {
    "name": "ipython",
    "version": 3
   },
   "file_extension": ".py",
   "mimetype": "text/x-python",
   "name": "python",
   "nbconvert_exporter": "python",
   "pygments_lexer": "ipython3",
   "version": "3.6.5"
  }
 },
 "nbformat": 4,
 "nbformat_minor": 1
}
